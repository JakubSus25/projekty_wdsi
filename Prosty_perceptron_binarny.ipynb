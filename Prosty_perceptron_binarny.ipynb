{
  "cells": [
    {
      "cell_type": "markdown",
      "source": [
        "## Jakub Suślik\n",
        "Prosty percepton służący do rozpoznawania binarnego pomiędzy 4 i 7 z wykorzytaniem zbioru MNIST."
      ],
      "metadata": {
        "id": "xh7D2T9R-L8J"
      }
    },
    {
      "cell_type": "code",
      "execution_count": null,
      "metadata": {
        "id": "BH0pjdRo-IVk"
      },
      "outputs": [],
      "source": [
        "class Perceptron:\n",
        "\n",
        "    def __init__(self, n):\n",
        "        self.w = np.random.rand(n + 1)\n",
        "\n",
        "    def predict(self, x):\n",
        "        x_with_bias = np.insert(x, 0, 1)\n",
        "        u = np.dot(self.w, x_with_bias)\n",
        "        return 1 if u >= 0 else 0\n",
        "\n",
        "    def train(self, xx, d, eta, tol,max_epoch):\n",
        "        errors = tol + 1\n",
        "        epoch = 0\n",
        "        while errors > tol:\n",
        "            error = 0\n",
        "            for inputs, label in zip(xx, d):\n",
        "                prediction = self.predict(inputs)\n",
        "                self.w += eta * (label - prediction) * np.insert(inputs, 0, 1)\n",
        "                error += int(label != prediction)\n",
        "\n",
        "            errors = error/len(xx)\n",
        "            epoch +=1\n",
        "            if epoch==max_epoch:\n",
        "              break\n",
        "\n",
        "        return self.w ,epoch\n",
        "\n",
        "    def evaluate_test(self, xx, d):\n",
        "        errors = 0\n",
        "        predictions = []\n",
        "        for inputs, label in zip(xx, d):\n",
        "            prediction = self.predict(inputs)\n",
        "            predictions.append(prediction)\n",
        "            errors += int(label != prediction)\n",
        "        return errors, predictions\n",
        "\n",
        "    def evaluate_sample(self,sample):\n",
        "        sol=self.predict(sample)\n",
        "        return sol"
      ]
    },
    {
      "cell_type": "code",
      "execution_count": null,
      "metadata": {
        "id": "nF9Oau9drc53"
      },
      "outputs": [],
      "source": [
        "import numpy as np\n",
        "import matplotlib.pyplot as plt\n",
        "from keras.datasets import mnist"
      ]
    },
    {
      "cell_type": "code",
      "execution_count": null,
      "metadata": {
        "colab": {
          "base_uri": "https://localhost:8080/",
          "height": 405
        },
        "id": "RuekpkS6r-eD",
        "outputId": "e46d7478-a4c7-452c-cdec-9812dbef08bd"
      },
      "outputs": [
        {
          "output_type": "display_data",
          "data": {
            "text/plain": [
              "<Figure size 640x480 with 1 Axes>"
            ],
            "image/png": "[encoded data removed]"
          },
          "metadata": {}
        }
      ],
      "source": [
        "(train_X, train_y), (test_X, test_y) = mnist.load_data()\n",
        "# train_X.shape,train_y.shape\n",
        "train_X[0]\n",
        "image=train_X[0]\n",
        "plt.imshow(image, cmap='gray')\n",
        "plt.axis('off')\n",
        "plt.show()"
      ]
    },
    {
      "cell_type": "code",
      "execution_count": null,
      "metadata": {
        "id": "Hn5_Q1kotjr4"
      },
      "outputs": [],
      "source": [
        "def select(X,y,n,m):\n",
        "  i = np.where((y==n) | (y==m))\n",
        "  selected_X = X[i]\n",
        "  selected_y = y[i]\n",
        "  return selected_X, selected_y"
      ]
    },
    {
      "cell_type": "code",
      "execution_count": null,
      "metadata": {
        "id": "MQnENyxv5_p2"
      },
      "outputs": [],
      "source": [
        "trainx,trainy=select(train_X,train_y,7,4)"
      ]
    },
    {
      "cell_type": "code",
      "execution_count": null,
      "metadata": {
        "id": "q2Gmc48zwEI6"
      },
      "outputs": [],
      "source": [
        "testx,testy=select(test_X,test_y,7,4)"
      ]
    },
    {
      "cell_type": "code",
      "execution_count": null,
      "metadata": {
        "id": "k8CtgI5V8Umy"
      },
      "outputs": [],
      "source": [
        "trainy[trainy==7]=0\n",
        "trainy[trainy==4]=1\n",
        "testy[testy==7]=0\n",
        "testy[testy==4]=1"
      ]
    },
    {
      "cell_type": "code",
      "execution_count": null,
      "metadata": {
        "id": "S-YDK1Le_Hv8"
      },
      "outputs": [],
      "source": [
        "def change_input(x,norm=False):\n",
        "  a,b,c = np.shape(x)\n",
        "  new_m = np.empty((len(x),b*c))\n",
        "  for i in range(a):\n",
        "    new_m[i]=np.reshape(x[i],(1,b*c))\n",
        "\n",
        "  if norm==True:\n",
        "    for i in range(len(new_m)):\n",
        "      max=np.max(new_m[i])\n",
        "      new_m[i]=new_m[i]/max\n",
        "\n",
        "  return new_m\n",
        "\n"
      ]
    },
    {
      "cell_type": "code",
      "execution_count": null,
      "metadata": {
        "id": "Gid0B6-JB9wM"
      },
      "outputs": [],
      "source": [
        "trainx1=trainx"
      ]
    },
    {
      "cell_type": "code",
      "execution_count": null,
      "metadata": {
        "id": "5APqyNOgvTEL"
      },
      "outputs": [],
      "source": [
        "trainx2=change_input(trainx1)"
      ]
    },
    {
      "cell_type": "code",
      "execution_count": null,
      "metadata": {
        "id": "II-1pB4LxB3L"
      },
      "outputs": [],
      "source": [
        "testx1=testx"
      ]
    },
    {
      "cell_type": "code",
      "execution_count": null,
      "metadata": {
        "id": "eIrRD3as94-1"
      },
      "outputs": [],
      "source": [
        "testx2=change_input(testx1)"
      ]
    },
    {
      "cell_type": "code",
      "execution_count": null,
      "metadata": {
        "id": "vo-1qmEFyg7e"
      },
      "outputs": [],
      "source": [
        "perceptron_mnist=Perceptron(len(trainx2[0]))"
      ]
    },
    {
      "cell_type": "code",
      "execution_count": null,
      "metadata": {
        "colab": {
          "base_uri": "https://localhost:8080/"
        },
        "id": "c50yRTuKxlbV",
        "outputId": "aa018665-ba8e-49af-88fc-6fecc2a2c25b"
      },
      "outputs": [
        {
          "output_type": "stream",
          "name": "stdout",
          "text": [
            "Accuracy: 98.71%\n"
          ]
        }
      ],
      "source": [
        "perceptron_mnist.train(trainx2,trainy,0.2,0.01,100)\n",
        "errors, predictions = perceptron_mnist.evaluate_test(testx2, testy)\n",
        "accuracy = (len(testy) - errors) / len(testy)\n",
        "print(f\"Accuracy: {accuracy * 100:.2f}%\")"
      ]
    },
    {
      "cell_type": "code",
      "execution_count": null,
      "metadata": {
        "id": "skGPuN5foOoz"
      },
      "outputs": [],
      "source": [
        "import cv2"
      ]
    },
    {
      "cell_type": "code",
      "execution_count": null,
      "metadata": {
        "id": "DaxZt_1X2don"
      },
      "outputs": [],
      "source": [
        "def img_convert(img):\n",
        "  img = cv2.imread(img,cv2.IMREAD_GRAYSCALE)\n",
        "  img = cv2.resize(img, (28,28), interpolation=cv2.INTER_LINEAR)\n",
        "  img = cv2.bitwise_not(img)\n",
        "  return img"
      ]
    },
    {
      "cell_type": "code",
      "execution_count": null,
      "metadata": {
        "colab": {
          "base_uri": "https://localhost:8080/"
        },
        "id": "TPYmwBqd8zMS",
        "outputId": "a73c08be-71d8-44f7-acf7-fbb4055c76d0"
      },
      "outputs": [
        {
          "output_type": "stream",
          "name": "stdout",
          "text": [
            "Cloning into 'moje_cyfry'...\n",
            "remote: Enumerating objects: 17, done.\u001b[K\n",
            "remote: Counting objects: 100% (17/17), done.\u001b[K\n",
            "remote: Compressing objects: 100% (17/17), done.\u001b[K\n",
            "remote: Total 17 (delta 1), reused 0 (delta 0), pack-reused 0\u001b[K\n",
            "Receiving objects: 100% (17/17), 171.53 KiB | 5.53 MiB/s, done.\n",
            "Resolving deltas: 100% (1/1), done.\n"
          ]
        }
      ],
      "source": [
        "!git clone https://github.com/JakubSus25/moje_cyfry.git"
      ]
    },
    {
      "cell_type": "code",
      "execution_count": null,
      "metadata": {
        "id": "pAc_B24tBRQU"
      },
      "outputs": [],
      "source": [
        "img1 = r'moje_cyfry/0001.jpg'\n",
        "img2 = r'moje_cyfry/0002.jpg'\n",
        "img3 = r'moje_cyfry/0003.jpg'\n",
        "img4 = r'moje_cyfry/0004.jpg'\n",
        "img5 = r'moje_cyfry/0005.jpg'\n",
        "img6 = r'moje_cyfry/0006.jpg'\n",
        "\n"
      ]
    },
    {
      "cell_type": "code",
      "execution_count": null,
      "metadata": {
        "id": "3kx6iGszCcca"
      },
      "outputs": [],
      "source": [
        "l4=[img1,img2,img3,img4,img5,img6]"
      ]
    },
    {
      "cell_type": "code",
      "execution_count": null,
      "metadata": {
        "id": "EeEsYTjkCmym"
      },
      "outputs": [],
      "source": [
        "a4=[]\n",
        "for i in l4:\n",
        "  a4.append(img_convert(i))"
      ]
    },
    {
      "cell_type": "code",
      "execution_count": null,
      "metadata": {
        "id": "irir2dcVLn_8"
      },
      "outputs": [],
      "source": [
        "b4=change_input(a4)"
      ]
    },
    {
      "cell_type": "code",
      "execution_count": null,
      "metadata": {
        "id": "BWSAyLRILz_k"
      },
      "outputs": [],
      "source": [
        "results4 = []\n",
        "for i in b4:\n",
        "  results4.append(perceptron_mnist.evaluate_sample(i))"
      ]
    },
    {
      "cell_type": "code",
      "execution_count": null,
      "metadata": {
        "colab": {
          "base_uri": "https://localhost:8080/"
        },
        "id": "aYs8-MMdL37p",
        "outputId": "2244f29a-fc6e-4e81-c3db-37d495e30e6a"
      },
      "outputs": [
        {
          "output_type": "execute_result",
          "data": {
            "text/plain": [
              "[1, 1, 1, 1, 1, 1]"
            ]
          },
          "metadata": {},
          "execution_count": 31
        }
      ],
      "source": [
        "results4"
      ]
    },
    {
      "cell_type": "code",
      "execution_count": null,
      "metadata": {
        "id": "fgZBn1KSDdt_"
      },
      "outputs": [],
      "source": [
        "img11 = r'moje_cyfry/0011.jpg'\n",
        "img12 = r'moje_cyfry/0012.jpg'\n",
        "img13 = r'moje_cyfry/0013.jpg'\n",
        "img14 = r'moje_cyfry/0014.jpg'\n",
        "img15 = r'moje_cyfry/0015.jpg'\n",
        "img16 = r'moje_cyfry/0016.jpg'\n"
      ]
    },
    {
      "cell_type": "code",
      "execution_count": null,
      "metadata": {
        "id": "LFqe_3F9De5g"
      },
      "outputs": [],
      "source": [
        "l7=[img11,img12,img13,img14,img15,img16]"
      ]
    },
    {
      "cell_type": "code",
      "execution_count": null,
      "metadata": {
        "id": "a5xnUNv8DokG"
      },
      "outputs": [],
      "source": [
        "a7= []\n",
        "for i in l7:\n",
        "  a7.append(img_convert(i))"
      ]
    },
    {
      "cell_type": "code",
      "execution_count": null,
      "metadata": {
        "id": "R6Zo5RxrJFZ4"
      },
      "outputs": [],
      "source": [
        "b7=change_input(a7)"
      ]
    },
    {
      "cell_type": "code",
      "execution_count": null,
      "metadata": {
        "id": "V2cIMUXcD4Gj"
      },
      "outputs": [],
      "source": [
        "results7 = []\n",
        "for i in b7:\n",
        "  results7.append(perceptron_mnist.evaluate_sample(i))"
      ]
    },
    {
      "cell_type": "code",
      "execution_count": null,
      "metadata": {
        "colab": {
          "base_uri": "https://localhost:8080/"
        },
        "id": "XBt41ZFID9eD",
        "outputId": "5b2384d4-da8a-4951-a25d-eca90d350bd4"
      },
      "outputs": [
        {
          "output_type": "execute_result",
          "data": {
            "text/plain": [
              "[1, 0, 0, 0, 0, 0]"
            ]
          },
          "metadata": {},
          "execution_count": 32
        }
      ],
      "source": [
        "results7"
      ]
    },
    {
      "cell_type": "markdown",
      "metadata": {
        "id": "o6F6AVfGCV9Y"
      },
      "source": [
        "Jak widać po wynikach prosty preceptron i tak całkiem nieźle radzi sobie z klasyfikacją 4 i 7. Na zbiorze testowym MNIST osiągnięto 98.41 poprawności.\n",
        "\n",
        "$[1, 1, 1, 1, 1, 1]$ - wynik dla zdjec 4 - czyli ok wsyzstko\n",
        "\n",
        "$[1, 0, 0, 0, 0, 0]$ - wynik dla zdjec 7 - jedna pomyłka\n",
        "\n",
        "\n"
      ]
    },
    {
      "cell_type": "code",
      "execution_count": null,
      "metadata": {
        "id": "yoVxhXciDPza"
      },
      "outputs": [],
      "source": [
        "perceptron_mnist2=Perceptron(len(trainx2[0]))"
      ]
    },
    {
      "cell_type": "code",
      "execution_count": null,
      "metadata": {
        "id": "oAhCHT18Dd4d"
      },
      "outputs": [],
      "source": [
        "trainxnorm=change_input(trainx1,True)\n",
        "testxnorm=change_input(testx1,True)"
      ]
    },
    {
      "cell_type": "code",
      "execution_count": null,
      "metadata": {
        "colab": {
          "base_uri": "https://localhost:8080/"
        },
        "id": "QOVuPDMDEfy6",
        "outputId": "aa23148f-5144-42d4-f306-c68d02cbcea8"
      },
      "outputs": [
        {
          "output_type": "stream",
          "name": "stdout",
          "text": [
            "Accuracy: 97.11%\n"
          ]
        }
      ],
      "source": [
        "perceptron_mnist2.train(trainxnorm,trainy,0.2,0.01,100)\n",
        "errors, predictions = perceptron_mnist2.evaluate_test(testxnorm, testy)\n",
        "accuracy = (len(testy) - errors) / len(testy)\n",
        "print(f\"Accuracy: {accuracy * 100:.2f}%\")"
      ]
    },
    {
      "cell_type": "code",
      "source": [
        "bn4=change_input(a4,True)\n",
        "bn7=change_input(a7,True)"
      ],
      "metadata": {
        "id": "LWBUExHddDjb"
      },
      "execution_count": null,
      "outputs": []
    },
    {
      "cell_type": "code",
      "source": [
        "results_n4=[]\n",
        "for i in bn4:\n",
        "  results_n4.append(perceptron_mnist2.evaluate_sample(i))\n",
        "\n",
        "results_n4"
      ],
      "metadata": {
        "colab": {
          "base_uri": "https://localhost:8080/"
        },
        "id": "GtUlMV77d8D8",
        "outputId": "bad4e1cf-3e57-4bd1-a7a0-b4bb8021fcfe"
      },
      "execution_count": null,
      "outputs": [
        {
          "output_type": "execute_result",
          "data": {
            "text/plain": [
              "[1, 1, 1, 1, 1, 1]"
            ]
          },
          "metadata": {},
          "execution_count": 40
        }
      ]
    },
    {
      "cell_type": "code",
      "source": [
        "results_n7=[]\n",
        "for i in bn7:\n",
        "  results_n7.append(perceptron_mnist2.evaluate_sample(i))\n",
        "\n",
        "results_n7"
      ],
      "metadata": {
        "colab": {
          "base_uri": "https://localhost:8080/"
        },
        "id": "uWg721KCeMg3",
        "outputId": "8f1779f9-c314-45dc-c347-5bca0b76f122"
      },
      "execution_count": null,
      "outputs": [
        {
          "output_type": "execute_result",
          "data": {
            "text/plain": [
              "[1, 0, 0, 0, 0, 1]"
            ]
          },
          "metadata": {},
          "execution_count": 41
        }
      ]
    }
  ],
  "metadata": {
    "colab": {
      "provenance": [],
      "toc_visible": true
    },
    "kernelspec": {
      "display_name": "Python 3",
      "name": "python3"
    },
    "language_info": {
      "name": "python"
    }
  },
  "nbformat": 4,
  "nbformat_minor": 0
}